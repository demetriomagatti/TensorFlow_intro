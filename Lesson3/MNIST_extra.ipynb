{
 "cells": [
  {
   "cell_type": "markdown",
   "id": "144ec300",
   "metadata": {},
   "source": [
    "### Just a tweak to use sublime shortcuts"
   ]
  },
  {
   "cell_type": "code",
   "execution_count": 1,
   "id": "1d87ca49",
   "metadata": {},
   "outputs": [
    {
     "data": {
      "application/javascript": [
       "require([\"codemirror/keymap/sublime\", \"notebook/js/cell\", \"base/js/namespace\"],\n",
       "    function(sublime_keymap, cell, IPython) {\n",
       "        cell.Cell.options_default.cm_config.keyMap = 'sublime';\n",
       "        var cells = IPython.notebook.get_cells();\n",
       "        for(var cl=0; cl< cells.length ; cl++){\n",
       "            cells[cl].code_mirror.setOption('keyMap', 'sublime');\n",
       "        }\n",
       "    }\n",
       ");\n"
      ],
      "text/plain": [
       "<IPython.core.display.Javascript object>"
      ]
     },
     "metadata": {},
     "output_type": "display_data"
    }
   ],
   "source": [
    "%%javascript\n",
    "require([\"codemirror/keymap/sublime\", \"notebook/js/cell\", \"base/js/namespace\"],\n",
    "    function(sublime_keymap, cell, IPython) {\n",
    "        cell.Cell.options_default.cm_config.keyMap = 'sublime';\n",
    "        var cells = IPython.notebook.get_cells();\n",
    "        for(var cl=0; cl< cells.length ; cl++){\n",
    "            cells[cl].code_mirror.setOption('keyMap', 'sublime');\n",
    "        }\n",
    "    }\n",
    ");"
   ]
  },
  {
   "cell_type": "code",
   "execution_count": 2,
   "id": "3de93c13",
   "metadata": {},
   "outputs": [],
   "source": [
    "# Install tensorflow provided datasets - uncomment on the first run\n",
    "# !pip install -U tensorflow_datasets"
   ]
  },
  {
   "cell_type": "code",
   "execution_count": 3,
   "id": "f4ce1369",
   "metadata": {},
   "outputs": [],
   "source": [
    "# Necessary imports\n",
    "import tensorflow as tf\n",
    "\n",
    "# Import TensorFlow Datasets\n",
    "import tensorflow_datasets as tfds\n",
    "tfds.disable_progress_bar()\n",
    "\n",
    "# Helper libraries\n",
    "import math\n",
    "import numpy as np\n",
    "import matplotlib.pyplot as plt\n",
    "\n",
    "# Logging\n",
    "import logging\n",
    "logger = tf.get_logger()\n",
    "logger.setLevel(logging.ERROR)"
   ]
  },
  {
   "cell_type": "markdown",
   "id": "e01c05b2",
   "metadata": {},
   "source": [
    "### Fashion MNIST dataset\n",
    "\n",
    "The Fashion MNIST dataset comes as a dictionary, with an already performed train and test dataset split. Metadata provide information about the dataset."
   ]
  },
  {
   "cell_type": "code",
   "execution_count": 4,
   "id": "8ac08ae5",
   "metadata": {},
   "outputs": [],
   "source": [
    "# Load dataset and metadata\n",
    "dataset, metadata = tfds.load('fashion_mnist', as_supervised=True, with_info=True)"
   ]
  },
  {
   "cell_type": "markdown",
   "id": "54f1ee56",
   "metadata": {},
   "source": [
    "### ModelBuilder class test"
   ]
  },
  {
   "cell_type": "code",
   "execution_count": 5,
   "id": "d9665501",
   "metadata": {},
   "outputs": [
    {
     "ename": "SyntaxError",
     "evalue": "invalid syntax (builder.py, line 39)",
     "output_type": "error",
     "traceback": [
      "Traceback \u001b[0;36m(most recent call last)\u001b[0m:\n",
      "  File \u001b[1;32m\"/home/demetrio/anaconda3/envs/tf/lib/python3.8/site-packages/IPython/core/interactiveshell.py\"\u001b[0m, line \u001b[1;32m3437\u001b[0m, in \u001b[1;35mrun_code\u001b[0m\n    exec(code_obj, self.user_global_ns, self.user_ns)\n",
      "\u001b[0;36m  File \u001b[0;32m\"<ipython-input-5-3cda207d87e9>\"\u001b[0;36m, line \u001b[0;32m2\u001b[0;36m, in \u001b[0;35m<module>\u001b[0;36m\u001b[0m\n\u001b[0;31m    from local import builder as bl\u001b[0m\n",
      "\u001b[0;36m  File \u001b[0;32m\"/home/demetrio/git_repo/TensorFlow_intro/Lesson3/local/builder.py\"\u001b[0;36m, line \u001b[0;32m39\u001b[0m\n\u001b[0;31m    for i in range(sel  f.num_hidden_layers):\u001b[0m\n\u001b[0m                        ^\u001b[0m\n\u001b[0;31mSyntaxError\u001b[0m\u001b[0;31m:\u001b[0m invalid syntax\n"
     ]
    }
   ],
   "source": [
    "# ModelBuilder import\n",
    "from local import builder as bl"
   ]
  },
  {
   "cell_type": "code",
   "execution_count": null,
   "id": "8ab794eb",
   "metadata": {
    "scrolled": true
   },
   "outputs": [],
   "source": [
    "# Train attempt with default parameters\n",
    "builder = bl.ModelBuilder(dataset=dataset, metadata=metadata)\n",
    "model = builder.define()\n",
    "builder.model = model\n",
    "history = builder.train()\n",
    "builder.history = history"
   ]
  },
  {
   "cell_type": "code",
   "execution_count": null,
   "id": "097be195",
   "metadata": {},
   "outputs": [],
   "source": [
    "# Model summary\n",
    "builder.model.summary()"
   ]
  },
  {
   "cell_type": "code",
   "execution_count": null,
   "id": "a826fffb",
   "metadata": {},
   "outputs": [],
   "source": [
    "# Model test\n",
    "evaluation = builder.evaluate()"
   ]
  },
  {
   "cell_type": "markdown",
   "id": "9082a543",
   "metadata": {},
   "source": [
    "### Two extra hidden layers, all with the same number of neurons"
   ]
  },
  {
   "cell_type": "code",
   "execution_count": null,
   "id": "e358bd6d",
   "metadata": {},
   "outputs": [],
   "source": [
    "# Empty builder definition\n",
    "builder = bl.ModelBuilder()\n",
    "\n",
    "# Modifying default parameters and building model\n",
    "num_hidden_layers = 3\n",
    "hidden_layer_neurons = num_hidden_layers*[builder.hidden_layer_neurons]\n",
    "hidden_layer_activation = num_hidden_layers*[builder.hidden_layer_activation]\n",
    "\n",
    "builder = bl.ModelBuilder(dataset=dataset, \n",
    "                          metadata=metadata, \n",
    "                          num_hidden_layers= num_hidden_layers,\n",
    "                          hidden_layer_neurons = hidden_layer_neurons,\n",
    "                          hidden_layer_activation = hidden_layer_activation)\n",
    "model = builder.define()\n",
    "builder.model = model\n",
    "builder.model.summary()"
   ]
  },
  {
   "cell_type": "code",
   "execution_count": null,
   "id": "dbe15d2c",
   "metadata": {},
   "outputs": [],
   "source": [
    "history = builder.train()\n",
    "builder.history = history"
   ]
  },
  {
   "cell_type": "code",
   "execution_count": null,
   "id": "14101fef",
   "metadata": {},
   "outputs": [],
   "source": [
    "evaluation = builder.evaluate()"
   ]
  },
  {
   "cell_type": "markdown",
   "id": "9a61cc9b",
   "metadata": {},
   "source": [
    "### Two extra hidden layers, with different number of neurons"
   ]
  },
  {
   "cell_type": "code",
   "execution_count": null,
   "id": "001d3849",
   "metadata": {},
   "outputs": [],
   "source": [
    "# Empty builder definition\n",
    "builder = bl.ModelBuilder()\n",
    "\n",
    "# Modifying default parameters and building model\n",
    "num_hidden_layers = 3\n",
    "hidden_layer_neurons = [128,64,32]\n",
    "hidden_layer_activation = num_hidden_layers*[builder.hidden_layer_activation]\n",
    "\n",
    "builder = bl.ModelBuilder(dataset=dataset, \n",
    "                          metadata=metadata, \n",
    "                          num_hidden_layers= num_hidden_layers,\n",
    "                          hidden_layer_neurons = hidden_layer_neurons,\n",
    "                          hidden_layer_activation = hidden_layer_activation)\n",
    "model = builder.define()\n",
    "builder.model = model\n",
    "builder.model.summary()"
   ]
  },
  {
   "cell_type": "code",
   "execution_count": null,
   "id": "a5417518",
   "metadata": {},
   "outputs": [],
   "source": [
    "history = builder.train()\n",
    "builder.history = history"
   ]
  },
  {
   "cell_type": "code",
   "execution_count": null,
   "id": "9ee62333",
   "metadata": {},
   "outputs": [],
   "source": [
    "evaluation = builder.evaluate()"
   ]
  },
  {
   "cell_type": "code",
   "execution_count": null,
   "id": "e21300d0",
   "metadata": {},
   "outputs": [],
   "source": [
    "history.history['accuracy']"
   ]
  },
  {
   "cell_type": "markdown",
   "id": "fbfbaeca",
   "metadata": {},
   "source": [
    "### Model comparison\n",
    "\n",
    "Train and test of different models for comparison purposes. \n",
    "<ul>\n",
    "    <li> Test1: changing hidden layers number\n",
    "    <li> Test2: changing hidden layer neurons\n",
    "</ul>"
   ]
  },
  {
   "cell_type": "code",
   "execution_count": null,
   "id": "f56a5892",
   "metadata": {
    "scrolled": true
   },
   "outputs": [],
   "source": [
    "# Test1\n",
    "epochs = 20\n",
    "layer_numbers = [1,3,10,20]\n",
    "hidden_layer_neurons_common = 10\n",
    "t1_history = []\n",
    "\n",
    "# Empty builder definition\n",
    "builder = bl.ModelBuilder()\n",
    "hidden_layer_activation_common = builder.hidden_layer_activation\n",
    "\n",
    "# Modifying default parameters and building model\n",
    "for num_hidden_layers in layer_numbers:\n",
    "    print(f'Number of hidden layers: {num_hidden_layers}')\n",
    "    hidden_layer_neurons = num_hidden_layers*[hidden_layer_neurons_common]\n",
    "    hidden_layer_activation = num_hidden_layers*[hidden_layer_activation_common]\n",
    "    builder = bl.ModelBuilder(dataset=dataset, \n",
    "                              metadata=metadata, \n",
    "                              num_hidden_layers= num_hidden_layers,\n",
    "                              hidden_layer_neurons = hidden_layer_neurons,\n",
    "                              hidden_layer_activation = hidden_layer_activation,\n",
    "                              epochs = epochs, \n",
    "                              verbose=0)\n",
    "    model = builder.define()\n",
    "    builder.model = model\n",
    "    history = builder.train()\n",
    "    t1_history.append(history.history['accuracy'])"
   ]
  },
  {
   "cell_type": "code",
   "execution_count": null,
   "id": "183e5dda",
   "metadata": {},
   "outputs": [],
   "source": [
    "for i in range(len(t1_history)):\n",
    "    plt.plot(t1_history[i],label=f'{layer_numbers[i]} layers, 10 neurons')\n",
    "\n",
    "plt.legend()\n",
    "plt.xlabel('epoch')\n",
    "plt.ylabel('train accuracy')\n",
    "plt.show()   "
   ]
  },
  {
   "cell_type": "code",
   "execution_count": null,
   "id": "58660f47",
   "metadata": {
    "scrolled": true
   },
   "outputs": [],
   "source": [
    "# Test2\n",
    "epochs = 20\n",
    "num_hidden_layers = 10\n",
    "hidden_layer_neurons = [10,20,50,100]\n",
    "t2_history = []\n",
    "\n",
    "# Empty builder definition\n",
    "builder = bl.ModelBuilder()\n",
    "hidden_layer_activation_common = builder.hidden_layer_activation\n",
    "\n",
    "# Modifying default parameters and building model\n",
    "for num_neurons in hidden_layer_neurons:\n",
    "    print(f'Number of neurons: {num_neurons}')\n",
    "    hidden_layer_neurons = num_hidden_layers*[num_neurons]\n",
    "    hidden_layer_activation = num_hidden_layers*[hidden_layer_activation_common]\n",
    "    builder = bl.ModelBuilder(dataset=dataset, \n",
    "                              metadata=metadata, \n",
    "                              num_hidden_layers= num_hidden_layers,\n",
    "                              hidden_layer_neurons = hidden_layer_neurons,\n",
    "                              hidden_layer_activation = hidden_layer_activation,\n",
    "                              epochs = epochs,\n",
    "                              verbose=0)\n",
    "    model = builder.define()\n",
    "    builder.model = model\n",
    "    history = builder.train()\n",
    "    t2_history.append(history.history['accuracy'])"
   ]
  },
  {
   "cell_type": "code",
   "execution_count": null,
   "id": "b85c4c3b",
   "metadata": {},
   "outputs": [],
   "source": [
    "for i in range(len(t2_history)):\n",
    "    plt.plot(t2_history[i],label=f'{hidden_layer_neurons[i]} layers, 10 neurons')\n",
    "\n",
    "plt.legend()\n",
    "plt.xlabel('epoch')\n",
    "plt.ylabel('train accuracy')\n",
    "plt.show()  "
   ]
  },
  {
   "cell_type": "code",
   "execution_count": null,
   "id": "95c75e5b",
   "metadata": {},
   "outputs": [],
   "source": []
  },
  {
   "cell_type": "code",
   "execution_count": null,
   "id": "84a0404f",
   "metadata": {},
   "outputs": [],
   "source": []
  }
 ],
 "metadata": {
  "kernelspec": {
   "display_name": "Python 3",
   "language": "python",
   "name": "python3"
  },
  "language_info": {
   "codemirror_mode": {
    "name": "ipython",
    "version": 3
   },
   "file_extension": ".py",
   "mimetype": "text/x-python",
   "name": "python",
   "nbconvert_exporter": "python",
   "pygments_lexer": "ipython3",
   "version": "3.8.8"
  }
 },
 "nbformat": 4,
 "nbformat_minor": 5
}
