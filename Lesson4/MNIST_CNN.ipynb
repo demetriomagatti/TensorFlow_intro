{
 "cells": [
  {
   "cell_type": "markdown",
   "id": "f9845419",
   "metadata": {},
   "source": [
    "### Just a tweak to use sublime shortcuts"
   ]
  },
  {
   "cell_type": "code",
   "execution_count": 1,
   "id": "f4320d14",
   "metadata": {},
   "outputs": [
    {
     "data": {
      "application/javascript": [
       "require([\"codemirror/keymap/sublime\", \"notebook/js/cell\", \"base/js/namespace\"],\n",
       "    function(sublime_keymap, cell, IPython) {\n",
       "        cell.Cell.options_default.cm_config.keyMap = 'sublime';\n",
       "        var cells = IPython.notebook.get_cells();\n",
       "        for(var cl=0; cl< cells.length ; cl++){\n",
       "            cells[cl].code_mirror.setOption('keyMap', 'sublime');\n",
       "        }\n",
       "    }\n",
       ");\n"
      ],
      "text/plain": [
       "<IPython.core.display.Javascript object>"
      ]
     },
     "metadata": {},
     "output_type": "display_data"
    }
   ],
   "source": [
    "%%javascript\n",
    "require([\"codemirror/keymap/sublime\", \"notebook/js/cell\", \"base/js/namespace\"],\n",
    "    function(sublime_keymap, cell, IPython) {\n",
    "        cell.Cell.options_default.cm_config.keyMap = 'sublime';\n",
    "        var cells = IPython.notebook.get_cells();\n",
    "        for(var cl=0; cl< cells.length ; cl++){\n",
    "            cells[cl].code_mirror.setOption('keyMap', 'sublime');\n",
    "        }\n",
    "    }\n",
    ");"
   ]
  },
  {
   "cell_type": "code",
   "execution_count": 2,
   "id": "26dffb3b",
   "metadata": {},
   "outputs": [],
   "source": [
    "# Install tensorflow provided datasets - uncomment on the first run\n",
    "# !pip install -U tensorflow_datasets"
   ]
  },
  {
   "cell_type": "code",
   "execution_count": 5,
   "id": "3a159ab6",
   "metadata": {},
   "outputs": [],
   "source": [
    "# Necessary imports\n",
    "import tensorflow as tf\n",
    "\n",
    "# Import TensorFlow Datasets\n",
    "import tensorflow_datasets as tfds\n",
    "tfds.disable_progress_bar()\n",
    "\n",
    "# Helper libraries\n",
    "import math\n",
    "import numpy as np\n",
    "import matplotlib.pyplot as plt\n",
    "\n",
    "# Logging\n",
    "import logging\n",
    "logger = tf.get_logger()\n",
    "logger.setLevel(logging.ERROR)"
   ]
  },
  {
   "cell_type": "markdown",
   "id": "886cba0a",
   "metadata": {},
   "source": [
    "### Fashion MNIST dataset\n",
    "\n",
    "The Fashion MNIST dataset comes as a dictionary, with an already performed train and test dataset split. Metadata provide information about the dataset."
   ]
  },
  {
   "cell_type": "code",
   "execution_count": 24,
   "id": "bd08963f",
   "metadata": {},
   "outputs": [],
   "source": [
    "# Load dataset and metadata\n",
    "dataset, metadata = tfds.load('fashion_mnist', as_supervised=True, with_info=True)\n",
    "train_dataset, test_dataset = dataset['train'], dataset['test']"
   ]
  },
  {
   "cell_type": "code",
   "execution_count": 25,
   "id": "babe88d6",
   "metadata": {},
   "outputs": [
    {
     "name": "stdout",
     "output_type": "stream",
     "text": [
      "Class names: ['T-shirt/top', 'Trouser', 'Pullover', 'Dress', 'Coat', 'Sandal', 'Shirt', 'Sneaker', 'Bag', 'Ankle boot']\n"
     ]
    }
   ],
   "source": [
    "# Extract label from metadata\n",
    "class_names = metadata.features['label'].names\n",
    "print(\"Class names: {}\".format(class_names))"
   ]
  },
  {
   "cell_type": "code",
   "execution_count": 26,
   "id": "c6edead0",
   "metadata": {},
   "outputs": [
    {
     "name": "stdout",
     "output_type": "stream",
     "text": [
      "Number of training examples: 60000\n",
      "Number of test examples:     10000\n"
     ]
    }
   ],
   "source": [
    "# Read information on train and test dataset\n",
    "num_train_examples = metadata.splits['train'].num_examples\n",
    "num_test_examples = metadata.splits['test'].num_examples\n",
    "print(\"Number of training examples: {}\".format(num_train_examples))\n",
    "print(\"Number of test examples:     {}\".format(num_test_examples))"
   ]
  },
  {
   "cell_type": "markdown",
   "id": "fa4c0cd7",
   "metadata": {},
   "source": [
    "### Preprocessing"
   ]
  },
  {
   "cell_type": "code",
   "execution_count": 27,
   "id": "c2993f93",
   "metadata": {},
   "outputs": [],
   "source": [
    "from local import preprocessing as pr"
   ]
  },
  {
   "cell_type": "code",
   "execution_count": 28,
   "id": "742ac217",
   "metadata": {},
   "outputs": [
    {
     "name": "stdout",
     "output_type": "stream",
     "text": [
      "Image shape before color dimension removal: (28, 28, 1)\n",
      "Image shape after color dimension removal:  (28, 28)\n"
     ]
    }
   ],
   "source": [
    "# Plot of a single image\n",
    "# Take a single image, and remove the color dimension by reshaping\n",
    "for image, label in test_dataset.take(1):\n",
    "    break\n",
    "print('Image shape before color dimension removal:', np.shape(image))\n",
    "image = image.numpy().reshape((28,28))\n",
    "print('Image shape after color dimension removal: ', np.shape(image))"
   ]
  },
  {
   "cell_type": "code",
   "execution_count": 29,
   "id": "0688100d",
   "metadata": {},
   "outputs": [],
   "source": [
    "# The map function applies the normalize function to each element in the train and test datasets\n",
    "# The normalize function converts the integer value in [0,255] to a float value in [0,1]\n",
    "train_dataset =  train_dataset.map(pr.normalize)\n",
    "test_dataset  =  test_dataset.map(pr.normalize)"
   ]
  },
  {
   "cell_type": "code",
   "execution_count": 30,
   "id": "a75a0162",
   "metadata": {},
   "outputs": [],
   "source": [
    "# The first time you use the dataset, the images will be loaded from disk\n",
    "# Caching will keep them in memory, making training faster\n",
    "train_dataset =  train_dataset.cache()\n",
    "test_dataset  =  test_dataset.cache()"
   ]
  },
  {
   "cell_type": "code",
   "execution_count": 31,
   "id": "4a42e99a",
   "metadata": {},
   "outputs": [],
   "source": [
    "# Model definition\n",
    "model = tf.keras.Sequential([\n",
    "    tf.keras.layers.Conv2D(32, (3,3), padding='same', activation=tf.nn.relu,\n",
    "                           input_shape=(28, 28, 1)),\n",
    "    tf.keras.layers.MaxPooling2D((2, 2), strides=2),\n",
    "    tf.keras.layers.Conv2D(64, (3,3), padding='same', activation=tf.nn.relu),\n",
    "    tf.keras.layers.MaxPooling2D((2, 2), strides=2),\n",
    "    tf.keras.layers.Flatten(),\n",
    "    tf.keras.layers.Dense(128, activation=tf.nn.relu),\n",
    "    tf.keras.layers.Dense(10, activation=tf.nn.softmax)\n",
    "])"
   ]
  },
  {
   "cell_type": "code",
   "execution_count": 32,
   "id": "3a7242ae",
   "metadata": {},
   "outputs": [],
   "source": [
    "# Compiling the model\n",
    "model.compile(optimizer='adam',\n",
    "              loss=tf.keras.losses.SparseCategoricalCrossentropy(),\n",
    "              metrics=['accuracy'])"
   ]
  },
  {
   "cell_type": "code",
   "execution_count": 33,
   "id": "6c666976",
   "metadata": {},
   "outputs": [],
   "source": [
    "# Training the model\n",
    "BATCH_SIZE = 32\n",
    "train_dataset = train_dataset.cache().repeat().shuffle(num_train_examples).batch(BATCH_SIZE)\n",
    "test_dataset = test_dataset.cache().batch(BATCH_SIZE)"
   ]
  },
  {
   "cell_type": "code",
   "execution_count": 34,
   "id": "d1144bee",
   "metadata": {
    "scrolled": true
   },
   "outputs": [
    {
     "name": "stdout",
     "output_type": "stream",
     "text": [
      "Epoch 1/10\n",
      "1875/1875 [==============================] - 89s 46ms/step - loss: 0.5570 - accuracy: 0.7952\n",
      "Epoch 2/10\n",
      "1875/1875 [==============================] - 94s 50ms/step - loss: 0.2718 - accuracy: 0.9014\n",
      "Epoch 3/10\n",
      "1875/1875 [==============================] - 86s 46ms/step - loss: 0.2187 - accuracy: 0.9198\n",
      "Epoch 4/10\n",
      "1875/1875 [==============================] - 84s 45ms/step - loss: 0.1912 - accuracy: 0.9290\n",
      "Epoch 5/10\n",
      "1875/1875 [==============================] - 83s 45ms/step - loss: 0.1566 - accuracy: 0.9423\n",
      "Epoch 6/10\n",
      "1875/1875 [==============================] - 83s 44ms/step - loss: 0.1286 - accuracy: 0.9518\n",
      "Epoch 7/10\n",
      "1875/1875 [==============================] - 83s 44ms/step - loss: 0.1169 - accuracy: 0.9566\n",
      "Epoch 8/10\n",
      "1875/1875 [==============================] - 83s 44ms/step - loss: 0.0966 - accuracy: 0.9641\n",
      "Epoch 9/10\n",
      "1875/1875 [==============================] - 83s 44ms/step - loss: 0.0808 - accuracy: 0.9690\n",
      "Epoch 10/10\n",
      "1875/1875 [==============================] - 83s 44ms/step - loss: 0.0657 - accuracy: 0.9743\n"
     ]
    }
   ],
   "source": [
    "train_history = model.fit(train_dataset, epochs=10, steps_per_epoch=math.ceil(num_train_examples/BATCH_SIZE)) "
   ]
  },
  {
   "cell_type": "code",
   "execution_count": null,
   "id": "04e39764",
   "metadata": {},
   "outputs": [],
   "source": []
  },
  {
   "cell_type": "code",
   "execution_count": null,
   "id": "ceee188f",
   "metadata": {},
   "outputs": [],
   "source": []
  },
  {
   "cell_type": "code",
   "execution_count": null,
   "id": "943fb996",
   "metadata": {},
   "outputs": [],
   "source": []
  }
 ],
 "metadata": {
  "kernelspec": {
   "display_name": "Python 3",
   "language": "python",
   "name": "python3"
  },
  "language_info": {
   "codemirror_mode": {
    "name": "ipython",
    "version": 3
   },
   "file_extension": ".py",
   "mimetype": "text/x-python",
   "name": "python",
   "nbconvert_exporter": "python",
   "pygments_lexer": "ipython3",
   "version": "3.8.8"
  }
 },
 "nbformat": 4,
 "nbformat_minor": 5
}
