{
 "cells": [
  {
   "cell_type": "markdown",
   "id": "144ec300",
   "metadata": {},
   "source": [
    "### Just a tweak to use sublime shortcuts"
   ]
  },
  {
   "cell_type": "code",
   "execution_count": 1,
   "id": "1d87ca49",
   "metadata": {},
   "outputs": [
    {
     "data": {
      "application/javascript": [
       "require([\"codemirror/keymap/sublime\", \"notebook/js/cell\", \"base/js/namespace\"],\n",
       "    function(sublime_keymap, cell, IPython) {\n",
       "        cell.Cell.options_default.cm_config.keyMap = 'sublime';\n",
       "        var cells = IPython.notebook.get_cells();\n",
       "        for(var cl=0; cl< cells.length ; cl++){\n",
       "            cells[cl].code_mirror.setOption('keyMap', 'sublime');\n",
       "        }\n",
       "    }\n",
       ");\n"
      ],
      "text/plain": [
       "<IPython.core.display.Javascript object>"
      ]
     },
     "metadata": {},
     "output_type": "display_data"
    }
   ],
   "source": [
    "%%javascript\n",
    "require([\"codemirror/keymap/sublime\", \"notebook/js/cell\", \"base/js/namespace\"],\n",
    "    function(sublime_keymap, cell, IPython) {\n",
    "        cell.Cell.options_default.cm_config.keyMap = 'sublime';\n",
    "        var cells = IPython.notebook.get_cells();\n",
    "        for(var cl=0; cl< cells.length ; cl++){\n",
    "            cells[cl].code_mirror.setOption('keyMap', 'sublime');\n",
    "        }\n",
    "    }\n",
    ");"
   ]
  },
  {
   "cell_type": "code",
   "execution_count": 2,
   "id": "3de93c13",
   "metadata": {
    "collapsed": true
   },
   "outputs": [
    {
     "name": "stdout",
     "output_type": "stream",
     "text": [
      "Requirement already satisfied: tensorflow_datasets in /home/demetrio/anaconda3/envs/tf/lib/python3.8/site-packages (4.2.0)\n",
      "Requirement already satisfied: protobuf>=3.12.2 in /home/demetrio/anaconda3/envs/tf/lib/python3.8/site-packages (from tensorflow_datasets) (3.15.8)\n",
      "Requirement already satisfied: dill in /home/demetrio/anaconda3/envs/tf/lib/python3.8/site-packages (from tensorflow_datasets) (0.3.3)\n",
      "Requirement already satisfied: tqdm in /home/demetrio/anaconda3/envs/tf/lib/python3.8/site-packages (from tensorflow_datasets) (4.60.0)\n",
      "Requirement already satisfied: requests>=2.19.0 in /home/demetrio/anaconda3/envs/tf/lib/python3.8/site-packages (from tensorflow_datasets) (2.25.1)\n",
      "Requirement already satisfied: future in /home/demetrio/anaconda3/envs/tf/lib/python3.8/site-packages (from tensorflow_datasets) (0.18.2)\n",
      "Requirement already satisfied: importlib-resources in /home/demetrio/anaconda3/envs/tf/lib/python3.8/site-packages (from tensorflow_datasets) (5.1.2)\n",
      "Requirement already satisfied: promise in /home/demetrio/anaconda3/envs/tf/lib/python3.8/site-packages (from tensorflow_datasets) (2.3)\n",
      "Requirement already satisfied: six in /home/demetrio/anaconda3/envs/tf/lib/python3.8/site-packages (from tensorflow_datasets) (1.15.0)\n",
      "Requirement already satisfied: numpy in /home/demetrio/anaconda3/envs/tf/lib/python3.8/site-packages (from tensorflow_datasets) (1.19.2)\n",
      "Requirement already satisfied: termcolor in /home/demetrio/anaconda3/envs/tf/lib/python3.8/site-packages (from tensorflow_datasets) (1.1.0)\n",
      "Requirement already satisfied: tensorflow-metadata in /home/demetrio/anaconda3/envs/tf/lib/python3.8/site-packages (from tensorflow_datasets) (0.30.0)\n",
      "Requirement already satisfied: attrs>=18.1.0 in /home/demetrio/anaconda3/envs/tf/lib/python3.8/site-packages (from tensorflow_datasets) (20.3.0)\n",
      "Requirement already satisfied: absl-py in /home/demetrio/anaconda3/envs/tf/lib/python3.8/site-packages (from tensorflow_datasets) (0.12.0)\n",
      "Requirement already satisfied: idna<3,>=2.5 in /home/demetrio/anaconda3/envs/tf/lib/python3.8/site-packages (from requests>=2.19.0->tensorflow_datasets) (2.10)\n",
      "Requirement already satisfied: chardet<5,>=3.0.2 in /home/demetrio/anaconda3/envs/tf/lib/python3.8/site-packages (from requests>=2.19.0->tensorflow_datasets) (3.0.4)\n",
      "Requirement already satisfied: urllib3<1.27,>=1.21.1 in /home/demetrio/anaconda3/envs/tf/lib/python3.8/site-packages (from requests>=2.19.0->tensorflow_datasets) (1.26.4)\n",
      "Requirement already satisfied: certifi>=2017.4.17 in /home/demetrio/anaconda3/envs/tf/lib/python3.8/site-packages (from requests>=2.19.0->tensorflow_datasets) (2020.12.5)\n",
      "Requirement already satisfied: googleapis-common-protos<2,>=1.52.0 in /home/demetrio/anaconda3/envs/tf/lib/python3.8/site-packages (from tensorflow-metadata->tensorflow_datasets) (1.53.0)\n"
     ]
    }
   ],
   "source": [
    "# Install tensorflow provided datasets - uncomment on the first run\n",
    "# !pip install -U tensorflow_datasets"
   ]
  },
  {
   "cell_type": "code",
   "execution_count": 3,
   "id": "f4ce1369",
   "metadata": {},
   "outputs": [],
   "source": [
    "# Necessary imports\n",
    "import tensorflow as tf\n",
    "\n",
    "# Import TensorFlow Datasets\n",
    "import tensorflow_datasets as tfds\n",
    "tfds.disable_progress_bar()\n",
    "\n",
    "# Helper libraries\n",
    "import math\n",
    "import numpy as np\n",
    "import matplotlib.pyplot as plt\n",
    "\n",
    "# Logging\n",
    "import logging\n",
    "logger = tf.get_logger()\n",
    "logger.setLevel(logging.ERROR)"
   ]
  },
  {
   "cell_type": "markdown",
   "id": "e01c05b2",
   "metadata": {},
   "source": [
    "### Fashion MNIST dataset\n",
    "\n",
    "The Fashion MNIST dataset comes as a dictionary, with an already performed train and test dataset split. Metadata provide information about the dataset."
   ]
  },
  {
   "cell_type": "code",
   "execution_count": 4,
   "id": "8ac08ae5",
   "metadata": {},
   "outputs": [],
   "source": [
    "# Load dataset and metadata\n",
    "dataset, metadata = tfds.load('fashion_mnist', as_supervised=True, with_info=True)"
   ]
  },
  {
   "cell_type": "markdown",
   "id": "54f1ee56",
   "metadata": {},
   "source": [
    "### ModelBuilder class test"
   ]
  },
  {
   "cell_type": "code",
   "execution_count": 5,
   "id": "d9665501",
   "metadata": {},
   "outputs": [],
   "source": [
    "# ModelBuilder import\n",
    "from local import builder as bl"
   ]
  },
  {
   "cell_type": "code",
   "execution_count": 6,
   "id": "8ab794eb",
   "metadata": {
    "scrolled": true
   },
   "outputs": [
    {
     "name": "stdout",
     "output_type": "stream",
     "text": [
      "Epoch 1/5\n",
      "1875/1875 [==============================] - 6s 2ms/step - loss: 0.6127 - accuracy: 0.7894\n",
      "Epoch 2/5\n",
      "1875/1875 [==============================] - 4s 2ms/step - loss: 0.3806 - accuracy: 0.8640\n",
      "Epoch 3/5\n",
      "1875/1875 [==============================] - 4s 2ms/step - loss: 0.3502 - accuracy: 0.8712\n",
      "Epoch 4/5\n",
      "1875/1875 [==============================] - 4s 2ms/step - loss: 0.3195 - accuracy: 0.8823\n",
      "Epoch 5/5\n",
      "1875/1875 [==============================] - 4s 2ms/step - loss: 0.2942 - accuracy: 0.8929\n"
     ]
    }
   ],
   "source": [
    "# Train attempt with default parameters\n",
    "builder = bl.ModelBuilder(dataset=dataset, metadata=metadata)\n",
    "model = builder.define()\n",
    "builder.model = model\n",
    "history = builder.train()\n",
    "builder.history = history"
   ]
  },
  {
   "cell_type": "code",
   "execution_count": 8,
   "id": "097be195",
   "metadata": {},
   "outputs": [
    {
     "name": "stdout",
     "output_type": "stream",
     "text": [
      "Model: \"sequential\"\n",
      "_________________________________________________________________\n",
      "Layer (type)                 Output Shape              Param #   \n",
      "=================================================================\n",
      "flatten (Flatten)            (None, 784)               0         \n",
      "_________________________________________________________________\n",
      "dense (Dense)                (None, 128)               100480    \n",
      "_________________________________________________________________\n",
      "dense_1 (Dense)              (None, 10)                1290      \n",
      "=================================================================\n",
      "Total params: 101,770\n",
      "Trainable params: 101,770\n",
      "Non-trainable params: 0\n",
      "_________________________________________________________________\n"
     ]
    }
   ],
   "source": [
    "# Model summary\n",
    "builder.model.summary()"
   ]
  },
  {
   "cell_type": "code",
   "execution_count": 7,
   "id": "a826fffb",
   "metadata": {},
   "outputs": [
    {
     "name": "stdout",
     "output_type": "stream",
     "text": [
      "313/313 [==============================] - 1s 2ms/step - loss: 0.3600 - accuracy: 0.8720\n"
     ]
    }
   ],
   "source": [
    "# Model test\n",
    "evaluation = builder.evaluate()"
   ]
  },
  {
   "cell_type": "markdown",
   "id": "9082a543",
   "metadata": {},
   "source": [
    "### Two extra hidden layers, all with the same number of neurons"
   ]
  },
  {
   "cell_type": "code",
   "execution_count": 24,
   "id": "e358bd6d",
   "metadata": {},
   "outputs": [
    {
     "name": "stdout",
     "output_type": "stream",
     "text": [
      "Model: \"sequential_2\"\n",
      "_________________________________________________________________\n",
      "Layer (type)                 Output Shape              Param #   \n",
      "=================================================================\n",
      "flatten_2 (Flatten)          (None, 784)               0         \n",
      "_________________________________________________________________\n",
      "dense_2 (Dense)              (None, 128)               100480    \n",
      "_________________________________________________________________\n",
      "dense_3 (Dense)              (None, 128)               16512     \n",
      "_________________________________________________________________\n",
      "dense_4 (Dense)              (None, 128)               16512     \n",
      "_________________________________________________________________\n",
      "dense_5 (Dense)              (None, 10)                1290      \n",
      "=================================================================\n",
      "Total params: 134,794\n",
      "Trainable params: 134,794\n",
      "Non-trainable params: 0\n",
      "_________________________________________________________________\n"
     ]
    }
   ],
   "source": [
    "# Empty builder definition\n",
    "builder = bl.ModelBuilder()\n",
    "\n",
    "# Modifying default parameters and building model\n",
    "num_hidden_layers = 3\n",
    "hidden_layer_neurons = num_hidden_layers*[builder.hidden_layer_neurons]\n",
    "hidden_layer_activation = num_hidden_layers*[builder.hidden_layer_activation]\n",
    "\n",
    "builder = bl.ModelBuilder(dataset=dataset, \n",
    "                          metadata=metadata, \n",
    "                          num_hidden_layers= num_hidden_layers,\n",
    "                          hidden_layer_neurons = hidden_layer_neurons,\n",
    "                          hidden_layer_activation = hidden_layer_activation)\n",
    "model = builder.define()\n",
    "builder.model = model\n",
    "builder.model.summary()"
   ]
  },
  {
   "cell_type": "code",
   "execution_count": 25,
   "id": "dbe15d2c",
   "metadata": {},
   "outputs": [
    {
     "name": "stdout",
     "output_type": "stream",
     "text": [
      "Epoch 1/5\n",
      "1875/1875 [==============================] - 6s 3ms/step - loss: 0.6336 - accuracy: 0.7738\n",
      "Epoch 2/5\n",
      "1875/1875 [==============================] - 5s 3ms/step - loss: 0.3813 - accuracy: 0.8578\n",
      "Epoch 3/5\n",
      "1875/1875 [==============================] - 5s 3ms/step - loss: 0.3371 - accuracy: 0.8769\n",
      "Epoch 4/5\n",
      "1875/1875 [==============================] - 5s 3ms/step - loss: 0.3070 - accuracy: 0.8856\n",
      "Epoch 5/5\n",
      "1875/1875 [==============================] - 5s 3ms/step - loss: 0.2918 - accuracy: 0.8919\n"
     ]
    }
   ],
   "source": [
    "history = builder.train()\n",
    "builder.history = history"
   ]
  },
  {
   "cell_type": "code",
   "execution_count": 26,
   "id": "14101fef",
   "metadata": {},
   "outputs": [
    {
     "name": "stdout",
     "output_type": "stream",
     "text": [
      "313/313 [==============================] - 1s 2ms/step - loss: 0.3445 - accuracy: 0.8780\n"
     ]
    }
   ],
   "source": [
    "evaluation = builder.evaluate()"
   ]
  },
  {
   "cell_type": "markdown",
   "id": "9a61cc9b",
   "metadata": {},
   "source": [
    "### Two extra hidden layers, with different number of neurons"
   ]
  },
  {
   "cell_type": "code",
   "execution_count": 27,
   "id": "001d3849",
   "metadata": {},
   "outputs": [
    {
     "name": "stdout",
     "output_type": "stream",
     "text": [
      "Model: \"sequential_3\"\n",
      "_________________________________________________________________\n",
      "Layer (type)                 Output Shape              Param #   \n",
      "=================================================================\n",
      "flatten_3 (Flatten)          (None, 784)               0         \n",
      "_________________________________________________________________\n",
      "dense_6 (Dense)              (None, 128)               100480    \n",
      "_________________________________________________________________\n",
      "dense_7 (Dense)              (None, 64)                8256      \n",
      "_________________________________________________________________\n",
      "dense_8 (Dense)              (None, 32)                2080      \n",
      "_________________________________________________________________\n",
      "dense_9 (Dense)              (None, 10)                330       \n",
      "=================================================================\n",
      "Total params: 111,146\n",
      "Trainable params: 111,146\n",
      "Non-trainable params: 0\n",
      "_________________________________________________________________\n"
     ]
    }
   ],
   "source": [
    "# Empty builder definition\n",
    "builder = bl.ModelBuilder()\n",
    "\n",
    "# Modifying default parameters and building model\n",
    "num_hidden_layers = 3\n",
    "hidden_layer_neurons = [128,64,32]\n",
    "hidden_layer_activation = num_hidden_layers*[builder.hidden_layer_activation]\n",
    "\n",
    "builder = bl.ModelBuilder(dataset=dataset, \n",
    "                          metadata=metadata, \n",
    "                          num_hidden_layers= num_hidden_layers,\n",
    "                          hidden_layer_neurons = hidden_layer_neurons,\n",
    "                          hidden_layer_activation = hidden_layer_activation)\n",
    "model = builder.define()\n",
    "builder.model = model\n",
    "builder.model.summary()"
   ]
  },
  {
   "cell_type": "code",
   "execution_count": 28,
   "id": "a5417518",
   "metadata": {},
   "outputs": [
    {
     "name": "stdout",
     "output_type": "stream",
     "text": [
      "Epoch 1/5\n",
      "1875/1875 [==============================] - 6s 2ms/step - loss: 0.6559 - accuracy: 0.7700\n",
      "Epoch 2/5\n",
      "1875/1875 [==============================] - 4s 2ms/step - loss: 0.3843 - accuracy: 0.8585\n",
      "Epoch 3/5\n",
      "1875/1875 [==============================] - 4s 2ms/step - loss: 0.3448 - accuracy: 0.8734\n",
      "Epoch 4/5\n",
      "1875/1875 [==============================] - 4s 2ms/step - loss: 0.3125 - accuracy: 0.8843\n",
      "Epoch 5/5\n",
      "1875/1875 [==============================] - 4s 2ms/step - loss: 0.2980 - accuracy: 0.8885\n"
     ]
    }
   ],
   "source": [
    "history = builder.train()\n",
    "builder.history = history"
   ]
  },
  {
   "cell_type": "code",
   "execution_count": 29,
   "id": "9ee62333",
   "metadata": {},
   "outputs": [
    {
     "name": "stdout",
     "output_type": "stream",
     "text": [
      "313/313 [==============================] - 1s 2ms/step - loss: 0.3695 - accuracy: 0.8709\n"
     ]
    }
   ],
   "source": [
    "evaluation = builder.evaluate()"
   ]
  }
 ],
 "metadata": {
  "kernelspec": {
   "display_name": "Python 3",
   "language": "python",
   "name": "python3"
  },
  "language_info": {
   "codemirror_mode": {
    "name": "ipython",
    "version": 3
   },
   "file_extension": ".py",
   "mimetype": "text/x-python",
   "name": "python",
   "nbconvert_exporter": "python",
   "pygments_lexer": "ipython3",
   "version": "3.8.8"
  }
 },
 "nbformat": 4,
 "nbformat_minor": 5
}
