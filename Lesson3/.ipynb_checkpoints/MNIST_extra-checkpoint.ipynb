{
 "cells": [
  {
   "cell_type": "markdown",
   "id": "144ec300",
   "metadata": {},
   "source": [
    "### Just a tweak to use sublime shortcuts"
   ]
  },
  {
   "cell_type": "code",
   "execution_count": 1,
   "id": "1d87ca49",
   "metadata": {},
   "outputs": [
    {
     "data": {
      "application/javascript": [
       "require([\"codemirror/keymap/sublime\", \"notebook/js/cell\", \"base/js/namespace\"],\n",
       "    function(sublime_keymap, cell, IPython) {\n",
       "        cell.Cell.options_default.cm_config.keyMap = 'sublime';\n",
       "        var cells = IPython.notebook.get_cells();\n",
       "        for(var cl=0; cl< cells.length ; cl++){\n",
       "            cells[cl].code_mirror.setOption('keyMap', 'sublime');\n",
       "        }\n",
       "    }\n",
       ");\n"
      ],
      "text/plain": [
       "<IPython.core.display.Javascript object>"
      ]
     },
     "metadata": {},
     "output_type": "display_data"
    }
   ],
   "source": [
    "%%javascript\n",
    "require([\"codemirror/keymap/sublime\", \"notebook/js/cell\", \"base/js/namespace\"],\n",
    "    function(sublime_keymap, cell, IPython) {\n",
    "        cell.Cell.options_default.cm_config.keyMap = 'sublime';\n",
    "        var cells = IPython.notebook.get_cells();\n",
    "        for(var cl=0; cl< cells.length ; cl++){\n",
    "            cells[cl].code_mirror.setOption('keyMap', 'sublime');\n",
    "        }\n",
    "    }\n",
    ");"
   ]
  },
  {
   "cell_type": "code",
   "execution_count": 2,
   "id": "3de93c13",
   "metadata": {},
   "outputs": [],
   "source": [
    "# Install tensorflow provided datasets - uncomment on the first run\n",
    "# !pip install -U tensorflow_datasets"
   ]
  },
  {
   "cell_type": "code",
   "execution_count": 3,
   "id": "f4ce1369",
   "metadata": {},
   "outputs": [],
   "source": [
    "# Necessary imports\n",
    "import tensorflow as tf\n",
    "\n",
    "# Import TensorFlow Datasets\n",
    "import tensorflow_datasets as tfds\n",
    "tfds.disable_progress_bar()\n",
    "\n",
    "# Helper libraries\n",
    "import math\n",
    "import numpy as np\n",
    "import matplotlib.pyplot as plt\n",
    "\n",
    "# Logging\n",
    "import logging\n",
    "logger = tf.get_logger()\n",
    "logger.setLevel(logging.ERROR)"
   ]
  },
  {
   "cell_type": "markdown",
   "id": "e01c05b2",
   "metadata": {},
   "source": [
    "### Fashion MNIST dataset\n",
    "\n",
    "The Fashion MNIST dataset comes as a dictionary, with an already performed train and test dataset split. Metadata provide information about the dataset."
   ]
  },
  {
   "cell_type": "code",
   "execution_count": 4,
   "id": "8ac08ae5",
   "metadata": {},
   "outputs": [],
   "source": [
    "# Load dataset and metadata\n",
    "dataset, metadata = tfds.load('fashion_mnist', as_supervised=True, with_info=True)"
   ]
  },
  {
   "cell_type": "markdown",
   "id": "54f1ee56",
   "metadata": {},
   "source": [
    "### ModelBuilder class test"
   ]
  },
  {
   "cell_type": "code",
   "execution_count": 5,
   "id": "d9665501",
   "metadata": {
    "scrolled": true
   },
   "outputs": [],
   "source": [
    "# ModelBuilder import\n",
    "from local import builder as bl"
   ]
  },
  {
   "cell_type": "code",
   "execution_count": 6,
   "id": "8ab794eb",
   "metadata": {
    "scrolled": true
   },
   "outputs": [
    {
     "name": "stdout",
     "output_type": "stream",
     "text": [
      "Epoch 1/5\n",
      "1875/1875 [==============================] - 6s 2ms/step - loss: 0.6224 - accuracy: 0.7835\n",
      "Epoch 2/5\n",
      "1875/1875 [==============================] - 4s 2ms/step - loss: 0.3953 - accuracy: 0.8569\n",
      "Epoch 3/5\n",
      "1875/1875 [==============================] - 4s 2ms/step - loss: 0.3543 - accuracy: 0.8713\n",
      "Epoch 4/5\n",
      "1875/1875 [==============================] - 4s 2ms/step - loss: 0.3185 - accuracy: 0.8832\n",
      "Epoch 5/5\n",
      "1875/1875 [==============================] - 4s 2ms/step - loss: 0.2990 - accuracy: 0.8888\n"
     ]
    }
   ],
   "source": [
    "# Train attempt with default parameters\n",
    "builder = bl.ModelBuilder(dataset=dataset, metadata=metadata)\n",
    "model = builder.define()\n",
    "builder.model = model\n",
    "history = builder.train()\n",
    "builder.history = history"
   ]
  },
  {
   "cell_type": "code",
   "execution_count": 7,
   "id": "097be195",
   "metadata": {},
   "outputs": [
    {
     "name": "stdout",
     "output_type": "stream",
     "text": [
      "Model: \"sequential\"\n",
      "_________________________________________________________________\n",
      "Layer (type)                 Output Shape              Param #   \n",
      "=================================================================\n",
      "flatten (Flatten)            (None, 784)               0         \n",
      "_________________________________________________________________\n",
      "dense (Dense)                (None, 128)               100480    \n",
      "_________________________________________________________________\n",
      "dense_1 (Dense)              (None, 10)                1290      \n",
      "=================================================================\n",
      "Total params: 101,770\n",
      "Trainable params: 101,770\n",
      "Non-trainable params: 0\n",
      "_________________________________________________________________\n"
     ]
    }
   ],
   "source": [
    "# Model summary\n",
    "builder.model.summary()"
   ]
  },
  {
   "cell_type": "code",
   "execution_count": 8,
   "id": "a826fffb",
   "metadata": {},
   "outputs": [
    {
     "name": "stdout",
     "output_type": "stream",
     "text": [
      "313/313 [==============================] - 1s 2ms/step - loss: 0.3609 - accuracy: 0.8706\n"
     ]
    }
   ],
   "source": [
    "# Model test\n",
    "evaluation = builder.evaluate()"
   ]
  },
  {
   "cell_type": "markdown",
   "id": "9082a543",
   "metadata": {},
   "source": [
    "### Two extra hidden layers, all with the same number of neurons"
   ]
  },
  {
   "cell_type": "code",
   "execution_count": 9,
   "id": "e358bd6d",
   "metadata": {},
   "outputs": [
    {
     "name": "stdout",
     "output_type": "stream",
     "text": [
      "Model: \"sequential_1\"\n",
      "_________________________________________________________________\n",
      "Layer (type)                 Output Shape              Param #   \n",
      "=================================================================\n",
      "flatten_1 (Flatten)          (None, 784)               0         \n",
      "_________________________________________________________________\n",
      "dense_2 (Dense)              (None, 128)               100480    \n",
      "_________________________________________________________________\n",
      "dense_3 (Dense)              (None, 128)               16512     \n",
      "_________________________________________________________________\n",
      "dense_4 (Dense)              (None, 128)               16512     \n",
      "_________________________________________________________________\n",
      "dense_5 (Dense)              (None, 10)                1290      \n",
      "=================================================================\n",
      "Total params: 134,794\n",
      "Trainable params: 134,794\n",
      "Non-trainable params: 0\n",
      "_________________________________________________________________\n"
     ]
    }
   ],
   "source": [
    "# Empty builder definition\n",
    "builder = bl.ModelBuilder()\n",
    "\n",
    "# Modifying default parameters and building model\n",
    "num_hidden_layers = 3\n",
    "hidden_layer_neurons = num_hidden_layers*[builder.hidden_layer_neurons]\n",
    "hidden_layer_activation = num_hidden_layers*[builder.hidden_layer_activation]\n",
    "\n",
    "builder = bl.ModelBuilder(dataset=dataset, \n",
    "                          metadata=metadata, \n",
    "                          num_hidden_layers= num_hidden_layers,\n",
    "                          hidden_layer_neurons = hidden_layer_neurons,\n",
    "                          hidden_layer_activation = hidden_layer_activation)\n",
    "model = builder.define()\n",
    "builder.model = model\n",
    "builder.model.summary()"
   ]
  },
  {
   "cell_type": "code",
   "execution_count": 10,
   "id": "dbe15d2c",
   "metadata": {},
   "outputs": [
    {
     "name": "stdout",
     "output_type": "stream",
     "text": [
      "Epoch 1/5\n",
      "1875/1875 [==============================] - 6s 3ms/step - loss: 0.6291 - accuracy: 0.7750\n",
      "Epoch 2/5\n",
      "1875/1875 [==============================] - 5s 3ms/step - loss: 0.3808 - accuracy: 0.8596\n",
      "Epoch 3/5\n",
      "1875/1875 [==============================] - 5s 3ms/step - loss: 0.3378 - accuracy: 0.8741\n",
      "Epoch 4/5\n",
      "1875/1875 [==============================] - 5s 3ms/step - loss: 0.3088 - accuracy: 0.8847\n",
      "Epoch 5/5\n",
      "1875/1875 [==============================] - 5s 3ms/step - loss: 0.2927 - accuracy: 0.8896\n"
     ]
    }
   ],
   "source": [
    "history = builder.train()\n",
    "builder.history = history"
   ]
  },
  {
   "cell_type": "code",
   "execution_count": 11,
   "id": "14101fef",
   "metadata": {},
   "outputs": [
    {
     "name": "stdout",
     "output_type": "stream",
     "text": [
      "313/313 [==============================] - 1s 2ms/step - loss: 0.3700 - accuracy: 0.8660\n"
     ]
    }
   ],
   "source": [
    "evaluation = builder.evaluate()"
   ]
  },
  {
   "cell_type": "markdown",
   "id": "9a61cc9b",
   "metadata": {},
   "source": [
    "### Two extra hidden layers, with different number of neurons"
   ]
  },
  {
   "cell_type": "code",
   "execution_count": 12,
   "id": "001d3849",
   "metadata": {},
   "outputs": [
    {
     "name": "stdout",
     "output_type": "stream",
     "text": [
      "Model: \"sequential_2\"\n",
      "_________________________________________________________________\n",
      "Layer (type)                 Output Shape              Param #   \n",
      "=================================================================\n",
      "flatten_2 (Flatten)          (None, 784)               0         \n",
      "_________________________________________________________________\n",
      "dense_6 (Dense)              (None, 128)               100480    \n",
      "_________________________________________________________________\n",
      "dense_7 (Dense)              (None, 64)                8256      \n",
      "_________________________________________________________________\n",
      "dense_8 (Dense)              (None, 32)                2080      \n",
      "_________________________________________________________________\n",
      "dense_9 (Dense)              (None, 10)                330       \n",
      "=================================================================\n",
      "Total params: 111,146\n",
      "Trainable params: 111,146\n",
      "Non-trainable params: 0\n",
      "_________________________________________________________________\n"
     ]
    }
   ],
   "source": [
    "# Empty builder definition\n",
    "builder = bl.ModelBuilder()\n",
    "\n",
    "# Modifying default parameters and building model\n",
    "num_hidden_layers = 3\n",
    "hidden_layer_neurons = [128,64,32]\n",
    "hidden_layer_activation = num_hidden_layers*[builder.hidden_layer_activation]\n",
    "\n",
    "builder = bl.ModelBuilder(dataset=dataset, \n",
    "                          metadata=metadata, \n",
    "                          num_hidden_layers= num_hidden_layers,\n",
    "                          hidden_layer_neurons = hidden_layer_neurons,\n",
    "                          hidden_layer_activation = hidden_layer_activation)\n",
    "model = builder.define()\n",
    "builder.model = model\n",
    "builder.model.summary()"
   ]
  },
  {
   "cell_type": "code",
   "execution_count": 13,
   "id": "a5417518",
   "metadata": {},
   "outputs": [
    {
     "name": "stdout",
     "output_type": "stream",
     "text": [
      "Epoch 1/5\n",
      "1875/1875 [==============================] - 5s 2ms/step - loss: 0.6429 - accuracy: 0.7729\n",
      "Epoch 2/5\n",
      "1875/1875 [==============================] - 4s 2ms/step - loss: 0.3774 - accuracy: 0.8640\n",
      "Epoch 3/5\n",
      "1875/1875 [==============================] - 4s 2ms/step - loss: 0.3396 - accuracy: 0.8745\n",
      "Epoch 4/5\n",
      "1875/1875 [==============================] - 4s 2ms/step - loss: 0.3065 - accuracy: 0.8870\n",
      "Epoch 5/5\n",
      "1875/1875 [==============================] - 4s 2ms/step - loss: 0.2971 - accuracy: 0.8888\n"
     ]
    }
   ],
   "source": [
    "history = builder.train()\n",
    "builder.history = history"
   ]
  },
  {
   "cell_type": "code",
   "execution_count": 14,
   "id": "9ee62333",
   "metadata": {},
   "outputs": [
    {
     "name": "stdout",
     "output_type": "stream",
     "text": [
      "313/313 [==============================] - 1s 2ms/step - loss: 0.3800 - accuracy: 0.8624\n"
     ]
    }
   ],
   "source": [
    "evaluation = builder.evaluate()"
   ]
  },
  {
   "cell_type": "markdown",
   "id": "bf6929bc",
   "metadata": {},
   "source": [
    "### Model comparison\n",
    "\n",
    "Train and test of different models for comparison purposes. \n",
    "<ul>\n",
    "    <li> Test1: changing hidden layers number\n",
    "    <li> Test2: changing hidden layer neurons' number\n",
    "</ul>"
   ]
  },
  {
   "cell_type": "code",
   "execution_count": 16,
   "id": "6d2f4eca",
   "metadata": {
    "scrolled": true
   },
   "outputs": [
    {
     "name": "stdout",
     "output_type": "stream",
     "text": [
      "Number of hidden layers: 1\n",
      "Number of hidden layers: 3\n",
      "Number of hidden layers: 10\n",
      "Number of hidden layers: 20\n"
     ]
    }
   ],
   "source": [
    "# Test1\n",
    "epochs = 20\n",
    "layer_numbers = [1,3,10,20]\n",
    "hidden_layer_neurons_common = 10\n",
    "t1_history = []\n",
    "\n",
    "# Empty builder definition\n",
    "builder = bl.ModelBuilder()\n",
    "hidden_layer_activation_common = builder.hidden_layer_activation\n",
    "\n",
    "# Modifying default parameters and building model\n",
    "for num_hidden_layers in layer_numbers:\n",
    "    print(f'Number of hidden layers: {num_hidden_layers}')\n",
    "    hidden_layer_neurons = num_hidden_layers*[hidden_layer_neurons_common]\n",
    "    hidden_layer_activation = num_hidden_layers*[hidden_layer_activation_common]\n",
    "    builder = bl.ModelBuilder(dataset=dataset, \n",
    "                              metadata=metadata, \n",
    "                              num_hidden_layers= num_hidden_layers,\n",
    "                              hidden_layer_neurons = hidden_layer_neurons,\n",
    "                              hidden_layer_activation = hidden_layer_activation,\n",
    "                              epochs = epochs, \n",
    "                              verbose=0)\n",
    "    model = builder.define()\n",
    "    builder.model = model\n",
    "    history = builder.train()\n",
    "    t1_history.append(history.history['accuracy'])"
   ]
  },
  {
   "cell_type": "code",
   "execution_count": 17,
   "id": "a540ca46",
   "metadata": {},
   "outputs": [
    {
     "data": {
      "image/png": "[encoded data removed]",
      "text/plain": [
       "<Figure size 432x288 with 1 Axes>"
      ]
     },
     "metadata": {
      "needs_background": "light"
     },
     "output_type": "display_data"
    }
   ],
   "source": [
    "for i in range(len(t1_history)):\n",
    "    plt.plot(t1_history[i],label=f'{layer_numbers[i]} layers, 10 neurons')\n",
    "\n",
    "plt.legend()\n",
    "plt.xlabel('epoch')\n",
    "plt.ylabel('train accuracy')\n",
    "plt.show()   "
   ]
  },
  {
   "cell_type": "code",
   "execution_count": 23,
   "id": "bb17dcdf",
   "metadata": {
    "scrolled": true
   },
   "outputs": [
    {
     "name": "stdout",
     "output_type": "stream",
     "text": [
      "Number of neurons: 10\n",
      "Number of neurons: 20\n",
      "Number of neurons: 50\n",
      "Number of neurons: 100\n"
     ]
    }
   ],
   "source": [
    "# Test2\n",
    "epochs = 20\n",
    "num_hidden_layers = 10\n",
    "hidden_layer_neurons_common = [10,20,50,100]\n",
    "t2_history = []\n",
    "\n",
    "# Empty builder definition\n",
    "builder = bl.ModelBuilder()\n",
    "hidden_layer_activation_common = builder.hidden_layer_activation\n",
    "\n",
    "# Modifying default parameters and building model\n",
    "for num_neurons in hidden_layer_neurons_common:\n",
    "    print(f'Number of neurons: {num_neurons}')\n",
    "    hidden_layer_neurons = num_hidden_layers*[num_neurons]\n",
    "    hidden_layer_activation = num_hidden_layers*[hidden_layer_activation_common]\n",
    "    builder = bl.ModelBuilder(dataset=dataset, \n",
    "                              metadata=metadata, \n",
    "                              num_hidden_layers= num_hidden_layers,\n",
    "                              hidden_layer_neurons = hidden_layer_neurons,\n",
    "                              hidden_layer_activation = hidden_layer_activation,\n",
    "                              epochs = epochs,\n",
    "                              verbose=0)\n",
    "    model = builder.define()\n",
    "    builder.model = model\n",
    "    history = builder.train()\n",
    "    t2_history.append(history.history['accuracy'])"
   ]
  },
  {
   "cell_type": "code",
   "execution_count": 24,
   "id": "f4e63d5e",
   "metadata": {},
   "outputs": [
    {
     "data": {
      "image/png": "[encoded data removed]",
      "text/plain": [
       "<Figure size 432x288 with 1 Axes>"
      ]
     },
     "metadata": {
      "needs_background": "light"
     },
     "output_type": "display_data"
    }
   ],
   "source": [
    "for i in range(len(t2_history)):\n",
    "    plt.plot(t2_history[i],label=f'10 layers, {hidden_layer_neurons_common[i]} neurons')\n",
    "\n",
    "plt.legend()\n",
    "plt.xlabel('epoch')\n",
    "plt.ylabel('train accuracy')\n",
    "plt.show()  "
   ]
  }
 ],
 "metadata": {
  "kernelspec": {
   "display_name": "Python 3",
   "language": "python",
   "name": "python3"
  },
  "language_info": {
   "codemirror_mode": {
    "name": "ipython",
    "version": 3
   },
   "file_extension": ".py",
   "mimetype": "text/x-python",
   "name": "python",
   "nbconvert_exporter": "python",
   "pygments_lexer": "ipython3",
   "version": "3.8.8"
  }
 },
 "nbformat": 4,
 "nbformat_minor": 5
}
